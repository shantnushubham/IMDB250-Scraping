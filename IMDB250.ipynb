{
 "cells": [
  {
   "cell_type": "code",
   "execution_count": 59,
   "metadata": {},
   "outputs": [
    {
     "data": {
      "application/vnd.jupyter.widget-view+json": {
       "model_id": "eb54d98544214fd9a6b3cb6a5eecf905",
       "version_major": 2,
       "version_minor": 0
      },
      "text/plain": [
       "Button(description='Run all below', style=ButtonStyle())"
      ]
     },
     "metadata": {},
     "output_type": "display_data"
    }
   ],
   "source": [
    "from IPython.display import Javascript, display\n",
    "from ipywidgets import widgets\n",
    "def run(ev):\n",
    "    display(Javascript('IPython.notebook.execute_cell_range(IPython.notebook.get_selected_index()+1, IPython.notebook.ncells())'))\n",
    "tab = widgets.Button(description=\"Run all below\")\n",
    "tab.on_click(run)\n",
    "display(tab)"
   ]
  },
  {
   "cell_type": "code",
   "execution_count": 60,
   "metadata": {},
   "outputs": [],
   "source": [
    "from bs4 import BeautifulSoup\n",
    "import urllib.request, urllib.parse, urllib.error\n",
    "import re\n",
    "import time\n",
    "import pandas as pd\n",
    "pd.set_option('display.max_rows', 750)\n",
    "pd.set_option('display.max_columns', 600)\n",
    "pd.set_option('display.width', 1000)"
   ]
  },
  {
   "cell_type": "code",
   "execution_count": 61,
   "metadata": {},
   "outputs": [],
   "source": [
    "#Extracting the Index\n",
    "def extractindex(movie):\n",
    "    element=movie.find(class_='lister-item-index unbold text-primary')\n",
    "    if element is None:\n",
    "        return None\n",
    "    else:\n",
    "        element1=element.text\n",
    "        return int(element1.split('.')[0])"
   ]
  },
  {
   "cell_type": "code",
   "execution_count": 62,
   "metadata": {},
   "outputs": [],
   "source": [
    "#Extracting the Genre\n",
    "def extractgenre(movie):\n",
    "    element=movie.find(class_='genre')\n",
    "    if element is None:\n",
    "        return None\n",
    "    else:\n",
    "        return element.text.strip().replace('\\n','')"
   ]
  },
  {
   "cell_type": "code",
   "execution_count": 63,
   "metadata": {},
   "outputs": [],
   "source": [
    "#Extracting the Name\n",
    "def extractname(movie):\n",
    "    elementhead=movie.find(class_='lister-item-header')\n",
    "    if elementhead is None:\n",
    "        return None\n",
    "    else:\n",
    "        elementhead1=elementhead.find('a').text\n",
    "        return elementhead1"
   ]
  },
  {
   "cell_type": "code",
   "execution_count": 64,
   "metadata": {},
   "outputs": [],
   "source": [
    "#extracting Release Year\n",
    "def extractyear(movie):\n",
    "    elementyear=movie.find(class_='lister-item-year text-muted unbold')\n",
    "    element=re.findall(r'\\((\\d+)\\)',elementyear.text)\n",
    "    if len(element)<1:\n",
    "        return None\n",
    "    else:\n",
    "        return int(element[0])"
   ]
  },
  {
   "cell_type": "code",
   "execution_count": 65,
   "metadata": {},
   "outputs": [],
   "source": [
    "#Extracting MetaScrore\n",
    "def extractscore(movie):\n",
    "    temp=movie.find(class_='metascore')\n",
    "    if temp is None:\n",
    "        return None\n",
    "    else:\n",
    "        return str(temp.text.strip())"
   ]
  },
  {
   "cell_type": "code",
   "execution_count": 66,
   "metadata": {},
   "outputs": [],
   "source": [
    "#Extracting Summary\n",
    "def extractsummary(movie):\n",
    "    temp=movie.find_all('p',{'class':'text-muted'})\n",
    "    if temp is None:\n",
    "        return None\n",
    "    else:\n",
    "        temp=temp[-1].text\n",
    "        return str(temp.replace('\\n','').strip())"
   ]
  },
  {
   "cell_type": "code",
   "execution_count": 67,
   "metadata": {},
   "outputs": [],
   "source": [
    "#Extracting IMDB Rating\n",
    "def extractrating(movie):\n",
    "    elementrate=movie.find(class_='inline-block ratings-imdb-rating')\n",
    "    if elementrate is None:\n",
    "        return None\n",
    "    else:\n",
    "        elementrate1=elementrate.find('strong').text\n",
    "        return float(elementrate1)"
   ]
  },
  {
   "cell_type": "code",
   "execution_count": 68,
   "metadata": {},
   "outputs": [],
   "source": [
    "#Extracting Votes\n",
    "def extractvote(movie):\n",
    "    temp=movie.find(class_='sort-num_votes-visible')\n",
    "    temp=temp.text.strip().replace('\\n','')\n",
    "    vote=re.findall(r'Vote[s:]+([0-9,]+)',temp)\n",
    "    if len(vote)<1:\n",
    "        return None\n",
    "    else:\n",
    "        return vote[0]"
   ]
  },
  {
   "cell_type": "code",
   "execution_count": 69,
   "metadata": {},
   "outputs": [],
   "source": [
    "#Extracting Director and Starrers\n",
    "def directorstarrer(movie):\n",
    "    one=[]\n",
    "    temp=''\n",
    "    elementdirectorstarrer=movie.find_all('p',{'class':''})\n",
    "    for i in elementdirectorstarrer:\n",
    "        if 'Director' in i.text:\n",
    "            temp=i.text\n",
    "    temp=temp.replace('\\n','').strip()   \n",
    "    #Using RE to get starrers and directors\n",
    "    director=re.findall(r'^Director[s:]*([a-zA-Z0-9 ,.]*)',temp)\n",
    "    if len(director)<1:\n",
    "        one.append(None)\n",
    "    else:\n",
    "        one.append(director[0])\n",
    "    star=re.findall(r'Star[s:]+([a-zA-Z0-9 ,.]*)',temp)\n",
    "    if len(star)<1:\n",
    "        one.append(None)\n",
    "    else:\n",
    "        one.append(star[0])\n",
    "    return one"
   ]
  },
  {
   "cell_type": "code",
   "execution_count": 70,
   "metadata": {},
   "outputs": [],
   "source": [
    "#Fetching URL\n",
    "def fetchurl(url=''):\n",
    "    if url=='':\n",
    "        url='https://www.imdb.com/search/title/?groups=top_250&sort=user_rating,desc&ref_=adv_prv'\n",
    "    user_agent={}\n",
    "    user_agent['Mozila'] = 'Mozilla/5.0 (Windows NT 6.1; Win64; x64)'\n",
    "    user_agent['Android'] = 'Mozilla/5.0 (X11; Ubuntu; Linux x86_64; rv:68.0) Gecko/20100101 Firefox/68.0'\n",
    "    headers={'User-Agent':user_agent['Mozila'],'Accept-Language': 'en-US,en;q=0.8'}\n",
    "    urlHandle=urllib.request.Request(url,None,headers)\n",
    "    urlHandle=urllib.request.urlopen(urlHandle)\n",
    "    content=urlHandle.read()\n",
    "    return BeautifulSoup(content,'html.parser')"
   ]
  },
  {
   "cell_type": "code",
   "execution_count": 71,
   "metadata": {},
   "outputs": [],
   "source": [
    "#Finding Next URL\n",
    "def findnexturl(s):\n",
    "    link=s.find(class_='lister-page-next next-page')\n",
    "    if link is None:\n",
    "        return None\n",
    "    else:\n",
    "        link=link.get('href')\n",
    "        link='https://www.imdb.com'+link\n",
    "    return link"
   ]
  },
  {
   "cell_type": "code",
   "execution_count": 72,
   "metadata": {},
   "outputs": [],
   "source": [
    "#Extracting Gross\n",
    "def extractgross(movie):\n",
    "    temp=movie.find(class_='sort-num_votes-visible')\n",
    "    temp=temp.text.strip().replace('\\n','')\n",
    "    gross=re.findall(r'Gross:([\\$0-9.,A-Z]+)',temp)\n",
    "    if len(gross)<1:\n",
    "        return None\n",
    "    else:\n",
    "        return gross[0]"
   ]
  },
  {
   "cell_type": "code",
   "execution_count": 73,
   "metadata": {},
   "outputs": [],
   "source": [
    "#DataFrame\n",
    "def df():\n",
    "    data={}\n",
    "    data['Name']=name\n",
    "    data['Year of Release']=year\n",
    "    data['Genre']=genre\n",
    "    data['IMDB Rating']=IMDB_rating\n",
    "    data['Metascore']=metascore\n",
    "    data['Director(s)']=directors\n",
    "    data['Star(s)']=stars\n",
    "    data['Summary']=summary\n",
    "    data['Votes']=votes\n",
    "    data['Gross Earning']=grosses\n",
    "    df = pd.DataFrame(data=data,index=index)\n",
    "    df.to_csv('IMDB.csv')"
   ]
  },
  {
   "cell_type": "code",
   "execution_count": 84,
   "metadata": {},
   "outputs": [],
   "source": [
    "index=[]\n",
    "name=[]\n",
    "year=[]\n",
    "genre=[]\n",
    "IMDB_rating=[]\n",
    "metascore=[]\n",
    "summary=[]\n",
    "directors=[]\n",
    "stars=[]\n",
    "votes=[]\n",
    "grosses=[]\n",
    "\n",
    "def main():\n",
    "    waittime=input('How long should the user wait in seconds? (default: 10): ')\n",
    "    if waittime=='':\n",
    "        waittime=10\n",
    "    else:\n",
    "        waittime=int(waittime)\n",
    "    print('Getting you. Please wait!')\n",
    "    s=fetchurl()\n",
    "    for i in range(1,6):\n",
    "        movies=s.find_all(class_='lister-item-content')\n",
    "        print('Getting data')\n",
    "        for movie in movies:\n",
    "            #Procuring all info\n",
    "            index.append(extractindex(movie))\n",
    "            name.append(extractname(movie))\n",
    "            year.append(extractyear(movie))\n",
    "            genre.append(extractgenre(movie))\n",
    "            IMDB_rating.append(extractrating(movie))\n",
    "            metascore.append(extractscore(movie))\n",
    "            summary.append(extractsummary(movie))\n",
    "            directornstar=directorstarrer(movie)\n",
    "            directors.append(directornstar[0])\n",
    "            stars.append(directornstar[1])\n",
    "            votes.append(extractvote(movie))\n",
    "            grosses.append(extractgross(movie))\n",
    "        next_link=findnexturl(s)\n",
    "        if next_link is None:\n",
    "            print('Exiting')\n",
    "            break;\n",
    "        print('Waiting ',waittime,' seconds')\n",
    "        time.sleep(waittime)\n",
    "        s=fetchurl(next_link)\n",
    "    df()"
   ]
  },
  {
   "cell_type": "code",
   "execution_count": 85,
   "metadata": {},
   "outputs": [
    {
     "name": "stdout",
     "output_type": "stream",
     "text": [
      "How long should the user wait in seconds? (default: 10): 1\n",
      "Getting you. Please wait!\n",
      "Getting data\n",
      "Waiting  1  seconds\n",
      "Getting data\n",
      "Waiting  1  seconds\n",
      "Getting data\n",
      "Waiting  1  seconds\n",
      "Getting data\n",
      "Waiting  1  seconds\n",
      "Getting data\n",
      "Exiting\n"
     ]
    }
   ],
   "source": [
    "main()"
   ]
  },
  {
   "cell_type": "code",
   "execution_count": null,
   "metadata": {},
   "outputs": [],
   "source": []
  }
 ],
 "metadata": {
  "kernelspec": {
   "display_name": "Python 3",
   "language": "python",
   "name": "python3"
  },
  "language_info": {
   "codemirror_mode": {
    "name": "ipython",
    "version": 3
   },
   "file_extension": ".py",
   "mimetype": "text/x-python",
   "name": "python",
   "nbconvert_exporter": "python",
   "pygments_lexer": "ipython3",
   "version": "3.7.3"
  }
 },
 "nbformat": 4,
 "nbformat_minor": 2
}
